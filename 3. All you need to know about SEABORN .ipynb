{
 "cells": [
  {
   "cell_type": "markdown",
   "metadata": {},
   "source": [
    "# Agenda"
   ]
  },
  {
   "cell_type": "markdown",
   "metadata": {},
   "source": [
    "# 1.What is Seaborn ?\n",
    "# 2. seaborn grapics\n",
    "# Seaborn vs Matplotlib\n",
    "# 4.Dependency of Seaborn \n",
    "# 5.instalation of seaborn\n",
    "# 6.imporint seaborn\n"
   ]
  },
  {
   "cell_type": "raw",
   "metadata": {},
   "source": [
    " 1 ans: Seaborn is a python library for data Visualization bulid on top of the matpoltlib python library\n",
    "        . used for statistical visualization"
   ]
  },
  {
   "cell_type": "markdown",
   "metadata": {},
   "source": [
    "# Seaborn Grapics\n",
    " # Heatmap\n",
    " # Pair Plot\n",
    " # Facet grid\n",
    " # Bar plot\n",
    " # scatter Plot\n",
    " # Line Plot\n",
    " # Distplot\n",
    " # Boxplot\n",
    " # Violin Plot\n"
   ]
  },
  {
   "cell_type": "code",
   "execution_count": null,
   "metadata": {},
   "outputs": [],
   "source": []
  }
 ],
 "metadata": {
  "kernelspec": {
   "display_name": "Python 3 (ipykernel)",
   "language": "python",
   "name": "python3"
  },
  "language_info": {
   "codemirror_mode": {
    "name": "ipython",
    "version": 3
   },
   "file_extension": ".py",
   "mimetype": "text/x-python",
   "name": "python",
   "nbconvert_exporter": "python",
   "pygments_lexer": "ipython3",
   "version": "3.9.7"
  }
 },
 "nbformat": 4,
 "nbformat_minor": 4
}
